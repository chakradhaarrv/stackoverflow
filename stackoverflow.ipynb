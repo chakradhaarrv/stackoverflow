{
  "nbformat": 4,
  "nbformat_minor": 0,
  "metadata": {
    "colab": {
      "name": "stackoverflow.ipynb",
      "provenance": [],
      "collapsed_sections": []
    },
    "kernelspec": {
      "name": "python3",
      "display_name": "Python 3"
    },
    "language_info": {
      "name": "python"
    }
  },
  "cells": [
    {
      "cell_type": "markdown",
      "metadata": {
        "id": "mNdSZi4b0ZZK"
      },
      "source": [
        "# Stack Overflow's 2020 Annual Developer Survey Analysis "
      ]
    },
    {
      "cell_type": "code",
      "metadata": {
        "colab": {
          "base_uri": "https://localhost:8080/"
        },
        "id": "Jj6wJv_PNuDl",
        "outputId": "98b2d4ad-507c-4590-9ec4-f612e616745a"
      },
      "source": [
        "!python -V"
      ],
      "execution_count": null,
      "outputs": [
        {
          "output_type": "stream",
          "text": [
            "Python 3.7.10\n"
          ],
          "name": "stdout"
        }
      ]
    },
    {
      "cell_type": "code",
      "metadata": {
        "id": "fw3pcMJOBSdz"
      },
      "source": [
        "#unzipping the files from the data source https://insights.stackoverflow.com/survey\n",
        "import zipfile\n",
        "with zipfile.ZipFile('/content/developer_survey_2020.zip', 'r') as zip_ref:\n",
        "    zip_ref.extractall('/content/dev_survey/')"
      ],
      "execution_count": null,
      "outputs": []
    },
    {
      "cell_type": "code",
      "metadata": {
        "id": "VDGHULnCBieO"
      },
      "source": [
        "import pandas as pd\n",
        "import seaborn as sns"
      ],
      "execution_count": null,
      "outputs": []
    },
    {
      "cell_type": "code",
      "metadata": {
        "colab": {
          "base_uri": "https://localhost:8080/",
          "height": 232
        },
        "id": "ubB0J7AHNIh_",
        "outputId": "121bf291-c659-40c8-8164-d4811ff0fd67"
      },
      "source": [
        "print(pd.__version__)\n",
        "print(sns.__version__)"
      ],
      "execution_count": null,
      "outputs": [
        {
          "output_type": "stream",
          "text": [
            "1.1.5\n",
            "0.11.1\n"
          ],
          "name": "stdout"
        },
        {
          "output_type": "error",
          "ename": "NameError",
          "evalue": "ignored",
          "traceback": [
            "\u001b[0;31m---------------------------------------------------------------------------\u001b[0m",
            "\u001b[0;31mNameError\u001b[0m                                 Traceback (most recent call last)",
            "\u001b[0;32m<ipython-input-100-12d83504c289>\u001b[0m in \u001b[0;36m<module>\u001b[0;34m()\u001b[0m\n\u001b[1;32m      2\u001b[0m \u001b[0mprint\u001b[0m\u001b[0;34m(\u001b[0m\u001b[0mpd\u001b[0m\u001b[0;34m.\u001b[0m\u001b[0m__version__\u001b[0m\u001b[0;34m)\u001b[0m\u001b[0;34m\u001b[0m\u001b[0;34m\u001b[0m\u001b[0m\n\u001b[1;32m      3\u001b[0m \u001b[0mprint\u001b[0m\u001b[0;34m(\u001b[0m\u001b[0msns\u001b[0m\u001b[0;34m.\u001b[0m\u001b[0m__version__\u001b[0m\u001b[0;34m)\u001b[0m\u001b[0;34m\u001b[0m\u001b[0;34m\u001b[0m\u001b[0m\n\u001b[0;32m----> 4\u001b[0;31m \u001b[0mprint\u001b[0m\u001b[0;34m(\u001b[0m\u001b[0mmatplotlib\u001b[0m\u001b[0;34m.\u001b[0m\u001b[0m__version___\u001b[0m\u001b[0;34m)\u001b[0m\u001b[0;34m\u001b[0m\u001b[0;34m\u001b[0m\u001b[0m\n\u001b[0m",
            "\u001b[0;31mNameError\u001b[0m: name 'matplotlib' is not defined"
          ]
        }
      ]
    },
    {
      "cell_type": "markdown",
      "metadata": {
        "id": "e1zbhgBU131g"
      },
      "source": [
        "Reading the contents of the csv files into pandas Dataframes.<br/>\n",
        "survey_public contains the survey data<br/>\n",
        "survey_schema contains information on what each column in the survey_public means, i.e., what was the question asked."
      ]
    },
    {
      "cell_type": "code",
      "metadata": {
        "id": "2f5edeQ4BtFI"
      },
      "source": [
        "survey_public = pd.read_csv('/content/dev_survey/survey_results_public.csv')\n",
        "survey_schema = pd.read_csv('/content/dev_survey/survey_results_schema.csv')"
      ],
      "execution_count": null,
      "outputs": []
    },
    {
      "cell_type": "code",
      "metadata": {
        "colab": {
          "base_uri": "https://localhost:8080/",
          "height": 632
        },
        "id": "kZ_F8X2UB8st",
        "outputId": "523ffd66-e455-4de0-f2c3-b29bab1cfecf"
      },
      "source": [
        "survey_public.head()"
      ],
      "execution_count": null,
      "outputs": [
        {
          "output_type": "execute_result",
          "data": {
            "text/html": [
              "<div>\n",
              "<style scoped>\n",
              "    .dataframe tbody tr th:only-of-type {\n",
              "        vertical-align: middle;\n",
              "    }\n",
              "\n",
              "    .dataframe tbody tr th {\n",
              "        vertical-align: top;\n",
              "    }\n",
              "\n",
              "    .dataframe thead th {\n",
              "        text-align: right;\n",
              "    }\n",
              "</style>\n",
              "<table border=\"1\" class=\"dataframe\">\n",
              "  <thead>\n",
              "    <tr style=\"text-align: right;\">\n",
              "      <th></th>\n",
              "      <th>Respondent</th>\n",
              "      <th>MainBranch</th>\n",
              "      <th>Hobbyist</th>\n",
              "      <th>Age</th>\n",
              "      <th>Age1stCode</th>\n",
              "      <th>CompFreq</th>\n",
              "      <th>CompTotal</th>\n",
              "      <th>ConvertedComp</th>\n",
              "      <th>Country</th>\n",
              "      <th>CurrencyDesc</th>\n",
              "      <th>CurrencySymbol</th>\n",
              "      <th>DatabaseDesireNextYear</th>\n",
              "      <th>DatabaseWorkedWith</th>\n",
              "      <th>DevType</th>\n",
              "      <th>EdLevel</th>\n",
              "      <th>Employment</th>\n",
              "      <th>Ethnicity</th>\n",
              "      <th>Gender</th>\n",
              "      <th>JobFactors</th>\n",
              "      <th>JobSat</th>\n",
              "      <th>JobSeek</th>\n",
              "      <th>LanguageDesireNextYear</th>\n",
              "      <th>LanguageWorkedWith</th>\n",
              "      <th>MiscTechDesireNextYear</th>\n",
              "      <th>MiscTechWorkedWith</th>\n",
              "      <th>NEWCollabToolsDesireNextYear</th>\n",
              "      <th>NEWCollabToolsWorkedWith</th>\n",
              "      <th>NEWDevOps</th>\n",
              "      <th>NEWDevOpsImpt</th>\n",
              "      <th>NEWEdImpt</th>\n",
              "      <th>NEWJobHunt</th>\n",
              "      <th>NEWJobHuntResearch</th>\n",
              "      <th>NEWLearn</th>\n",
              "      <th>NEWOffTopic</th>\n",
              "      <th>NEWOnboardGood</th>\n",
              "      <th>NEWOtherComms</th>\n",
              "      <th>NEWOvertime</th>\n",
              "      <th>NEWPurchaseResearch</th>\n",
              "      <th>NEWPurpleLink</th>\n",
              "      <th>NEWSOSites</th>\n",
              "      <th>NEWStuck</th>\n",
              "      <th>OpSys</th>\n",
              "      <th>OrgSize</th>\n",
              "      <th>PlatformDesireNextYear</th>\n",
              "      <th>PlatformWorkedWith</th>\n",
              "      <th>PurchaseWhat</th>\n",
              "      <th>Sexuality</th>\n",
              "      <th>SOAccount</th>\n",
              "      <th>SOComm</th>\n",
              "      <th>SOPartFreq</th>\n",
              "      <th>SOVisitFreq</th>\n",
              "      <th>SurveyEase</th>\n",
              "      <th>SurveyLength</th>\n",
              "      <th>Trans</th>\n",
              "      <th>UndergradMajor</th>\n",
              "      <th>WebframeDesireNextYear</th>\n",
              "      <th>WebframeWorkedWith</th>\n",
              "      <th>WelcomeChange</th>\n",
              "      <th>WorkWeekHrs</th>\n",
              "      <th>YearsCode</th>\n",
              "      <th>YearsCodePro</th>\n",
              "    </tr>\n",
              "  </thead>\n",
              "  <tbody>\n",
              "    <tr>\n",
              "      <th>0</th>\n",
              "      <td>1</td>\n",
              "      <td>I am a developer by profession</td>\n",
              "      <td>Yes</td>\n",
              "      <td>NaN</td>\n",
              "      <td>13</td>\n",
              "      <td>Monthly</td>\n",
              "      <td>NaN</td>\n",
              "      <td>NaN</td>\n",
              "      <td>Germany</td>\n",
              "      <td>European Euro</td>\n",
              "      <td>EUR</td>\n",
              "      <td>Microsoft SQL Server</td>\n",
              "      <td>Elasticsearch;Microsoft SQL Server;Oracle</td>\n",
              "      <td>Developer, desktop or enterprise applications;...</td>\n",
              "      <td>Master’s degree (M.A., M.S., M.Eng., MBA, etc.)</td>\n",
              "      <td>Independent contractor, freelancer, or self-em...</td>\n",
              "      <td>White or of European descent</td>\n",
              "      <td>Man</td>\n",
              "      <td>Languages, frameworks, and other technologies ...</td>\n",
              "      <td>Slightly satisfied</td>\n",
              "      <td>I am not interested in new job opportunities</td>\n",
              "      <td>C#;HTML/CSS;JavaScript</td>\n",
              "      <td>C#;HTML/CSS;JavaScript</td>\n",
              "      <td>.NET Core;Xamarin</td>\n",
              "      <td>.NET;.NET Core</td>\n",
              "      <td>Microsoft Teams;Microsoft Azure;Trello</td>\n",
              "      <td>Confluence;Jira;Slack;Microsoft Azure;Trello</td>\n",
              "      <td>No</td>\n",
              "      <td>Somewhat important</td>\n",
              "      <td>Fairly important</td>\n",
              "      <td>NaN</td>\n",
              "      <td>NaN</td>\n",
              "      <td>Once a year</td>\n",
              "      <td>Not sure</td>\n",
              "      <td>NaN</td>\n",
              "      <td>No</td>\n",
              "      <td>Often: 1-2 days per week or more</td>\n",
              "      <td>Start a free trial;Ask developers I know/work ...</td>\n",
              "      <td>Amused</td>\n",
              "      <td>Stack Overflow (public Q&amp;A for anyone who codes)</td>\n",
              "      <td>Visit Stack Overflow;Go for a walk or other ph...</td>\n",
              "      <td>Windows</td>\n",
              "      <td>2 to 9 employees</td>\n",
              "      <td>Android;iOS;Kubernetes;Microsoft Azure;Windows</td>\n",
              "      <td>Windows</td>\n",
              "      <td>NaN</td>\n",
              "      <td>Straight / Heterosexual</td>\n",
              "      <td>No</td>\n",
              "      <td>No, not at all</td>\n",
              "      <td>NaN</td>\n",
              "      <td>Multiple times per day</td>\n",
              "      <td>Neither easy nor difficult</td>\n",
              "      <td>Appropriate in length</td>\n",
              "      <td>No</td>\n",
              "      <td>Computer science, computer engineering, or sof...</td>\n",
              "      <td>ASP.NET Core</td>\n",
              "      <td>ASP.NET;ASP.NET Core</td>\n",
              "      <td>Just as welcome now as I felt last year</td>\n",
              "      <td>50.0</td>\n",
              "      <td>36</td>\n",
              "      <td>27</td>\n",
              "    </tr>\n",
              "    <tr>\n",
              "      <th>1</th>\n",
              "      <td>2</td>\n",
              "      <td>I am a developer by profession</td>\n",
              "      <td>No</td>\n",
              "      <td>NaN</td>\n",
              "      <td>19</td>\n",
              "      <td>NaN</td>\n",
              "      <td>NaN</td>\n",
              "      <td>NaN</td>\n",
              "      <td>United Kingdom</td>\n",
              "      <td>Pound sterling</td>\n",
              "      <td>GBP</td>\n",
              "      <td>NaN</td>\n",
              "      <td>NaN</td>\n",
              "      <td>Developer, full-stack;Developer, mobile</td>\n",
              "      <td>Bachelor’s degree (B.A., B.S., B.Eng., etc.)</td>\n",
              "      <td>Employed full-time</td>\n",
              "      <td>NaN</td>\n",
              "      <td>NaN</td>\n",
              "      <td>NaN</td>\n",
              "      <td>Very dissatisfied</td>\n",
              "      <td>I am not interested in new job opportunities</td>\n",
              "      <td>Python;Swift</td>\n",
              "      <td>JavaScript;Swift</td>\n",
              "      <td>React Native;TensorFlow;Unity 3D</td>\n",
              "      <td>React Native</td>\n",
              "      <td>Github;Slack</td>\n",
              "      <td>Confluence;Jira;Github;Gitlab;Slack</td>\n",
              "      <td>NaN</td>\n",
              "      <td>NaN</td>\n",
              "      <td>Fairly important</td>\n",
              "      <td>NaN</td>\n",
              "      <td>NaN</td>\n",
              "      <td>Once a year</td>\n",
              "      <td>Not sure</td>\n",
              "      <td>NaN</td>\n",
              "      <td>No</td>\n",
              "      <td>NaN</td>\n",
              "      <td>NaN</td>\n",
              "      <td>Amused</td>\n",
              "      <td>Stack Overflow (public Q&amp;A for anyone who code...</td>\n",
              "      <td>Visit Stack Overflow;Go for a walk or other ph...</td>\n",
              "      <td>MacOS</td>\n",
              "      <td>1,000 to 4,999 employees</td>\n",
              "      <td>iOS;Kubernetes;Linux;MacOS</td>\n",
              "      <td>iOS</td>\n",
              "      <td>I have little or no influence</td>\n",
              "      <td>NaN</td>\n",
              "      <td>Yes</td>\n",
              "      <td>Yes, definitely</td>\n",
              "      <td>Less than once per month or monthly</td>\n",
              "      <td>Multiple times per day</td>\n",
              "      <td>NaN</td>\n",
              "      <td>NaN</td>\n",
              "      <td>NaN</td>\n",
              "      <td>Computer science, computer engineering, or sof...</td>\n",
              "      <td>NaN</td>\n",
              "      <td>NaN</td>\n",
              "      <td>Somewhat more welcome now than last year</td>\n",
              "      <td>NaN</td>\n",
              "      <td>7</td>\n",
              "      <td>4</td>\n",
              "    </tr>\n",
              "    <tr>\n",
              "      <th>2</th>\n",
              "      <td>3</td>\n",
              "      <td>I code primarily as a hobby</td>\n",
              "      <td>Yes</td>\n",
              "      <td>NaN</td>\n",
              "      <td>15</td>\n",
              "      <td>NaN</td>\n",
              "      <td>NaN</td>\n",
              "      <td>NaN</td>\n",
              "      <td>Russian Federation</td>\n",
              "      <td>NaN</td>\n",
              "      <td>NaN</td>\n",
              "      <td>NaN</td>\n",
              "      <td>NaN</td>\n",
              "      <td>NaN</td>\n",
              "      <td>NaN</td>\n",
              "      <td>NaN</td>\n",
              "      <td>NaN</td>\n",
              "      <td>NaN</td>\n",
              "      <td>NaN</td>\n",
              "      <td>NaN</td>\n",
              "      <td>NaN</td>\n",
              "      <td>Objective-C;Python;Swift</td>\n",
              "      <td>Objective-C;Python;Swift</td>\n",
              "      <td>NaN</td>\n",
              "      <td>NaN</td>\n",
              "      <td>NaN</td>\n",
              "      <td>NaN</td>\n",
              "      <td>NaN</td>\n",
              "      <td>NaN</td>\n",
              "      <td>NaN</td>\n",
              "      <td>NaN</td>\n",
              "      <td>NaN</td>\n",
              "      <td>Once a decade</td>\n",
              "      <td>NaN</td>\n",
              "      <td>NaN</td>\n",
              "      <td>No</td>\n",
              "      <td>NaN</td>\n",
              "      <td>NaN</td>\n",
              "      <td>NaN</td>\n",
              "      <td>Stack Overflow (public Q&amp;A for anyone who codes)</td>\n",
              "      <td>NaN</td>\n",
              "      <td>Linux-based</td>\n",
              "      <td>NaN</td>\n",
              "      <td>NaN</td>\n",
              "      <td>NaN</td>\n",
              "      <td>NaN</td>\n",
              "      <td>NaN</td>\n",
              "      <td>Yes</td>\n",
              "      <td>Yes, somewhat</td>\n",
              "      <td>A few times per month or weekly</td>\n",
              "      <td>Daily or almost daily</td>\n",
              "      <td>Neither easy nor difficult</td>\n",
              "      <td>Appropriate in length</td>\n",
              "      <td>NaN</td>\n",
              "      <td>NaN</td>\n",
              "      <td>NaN</td>\n",
              "      <td>NaN</td>\n",
              "      <td>Somewhat more welcome now than last year</td>\n",
              "      <td>NaN</td>\n",
              "      <td>4</td>\n",
              "      <td>NaN</td>\n",
              "    </tr>\n",
              "    <tr>\n",
              "      <th>3</th>\n",
              "      <td>4</td>\n",
              "      <td>I am a developer by profession</td>\n",
              "      <td>Yes</td>\n",
              "      <td>25.0</td>\n",
              "      <td>18</td>\n",
              "      <td>NaN</td>\n",
              "      <td>NaN</td>\n",
              "      <td>NaN</td>\n",
              "      <td>Albania</td>\n",
              "      <td>Albanian lek</td>\n",
              "      <td>ALL</td>\n",
              "      <td>NaN</td>\n",
              "      <td>NaN</td>\n",
              "      <td>NaN</td>\n",
              "      <td>Master’s degree (M.A., M.S., M.Eng., MBA, etc.)</td>\n",
              "      <td>NaN</td>\n",
              "      <td>White or of European descent</td>\n",
              "      <td>Man</td>\n",
              "      <td>Flex time or a flexible schedule;Office enviro...</td>\n",
              "      <td>Slightly dissatisfied</td>\n",
              "      <td>I’m not actively looking, but I am open to new...</td>\n",
              "      <td>NaN</td>\n",
              "      <td>NaN</td>\n",
              "      <td>NaN</td>\n",
              "      <td>NaN</td>\n",
              "      <td>NaN</td>\n",
              "      <td>NaN</td>\n",
              "      <td>No</td>\n",
              "      <td>NaN</td>\n",
              "      <td>Not at all important/not necessary</td>\n",
              "      <td>Curious about other opportunities;Wanting to w...</td>\n",
              "      <td>NaN</td>\n",
              "      <td>Once a year</td>\n",
              "      <td>Not sure</td>\n",
              "      <td>Yes</td>\n",
              "      <td>Yes</td>\n",
              "      <td>Occasionally: 1-2 days per quarter but less th...</td>\n",
              "      <td>NaN</td>\n",
              "      <td>NaN</td>\n",
              "      <td>Stack Overflow (public Q&amp;A for anyone who code...</td>\n",
              "      <td>NaN</td>\n",
              "      <td>Linux-based</td>\n",
              "      <td>20 to 99 employees</td>\n",
              "      <td>NaN</td>\n",
              "      <td>NaN</td>\n",
              "      <td>I have a great deal of influence</td>\n",
              "      <td>Straight / Heterosexual</td>\n",
              "      <td>Yes</td>\n",
              "      <td>Yes, definitely</td>\n",
              "      <td>A few times per month or weekly</td>\n",
              "      <td>Multiple times per day</td>\n",
              "      <td>NaN</td>\n",
              "      <td>NaN</td>\n",
              "      <td>No</td>\n",
              "      <td>Computer science, computer engineering, or sof...</td>\n",
              "      <td>NaN</td>\n",
              "      <td>NaN</td>\n",
              "      <td>Somewhat less welcome now than last year</td>\n",
              "      <td>40.0</td>\n",
              "      <td>7</td>\n",
              "      <td>4</td>\n",
              "    </tr>\n",
              "    <tr>\n",
              "      <th>4</th>\n",
              "      <td>5</td>\n",
              "      <td>I used to be a developer by profession, but no...</td>\n",
              "      <td>Yes</td>\n",
              "      <td>31.0</td>\n",
              "      <td>16</td>\n",
              "      <td>NaN</td>\n",
              "      <td>NaN</td>\n",
              "      <td>NaN</td>\n",
              "      <td>United States</td>\n",
              "      <td>NaN</td>\n",
              "      <td>NaN</td>\n",
              "      <td>MySQL;PostgreSQL</td>\n",
              "      <td>MySQL;PostgreSQL;Redis;SQLite</td>\n",
              "      <td>NaN</td>\n",
              "      <td>Bachelor’s degree (B.A., B.S., B.Eng., etc.)</td>\n",
              "      <td>Employed full-time</td>\n",
              "      <td>White or of European descent</td>\n",
              "      <td>Man</td>\n",
              "      <td>NaN</td>\n",
              "      <td>NaN</td>\n",
              "      <td>NaN</td>\n",
              "      <td>Java;Ruby;Scala</td>\n",
              "      <td>HTML/CSS;Ruby;SQL</td>\n",
              "      <td>Ansible;Chef</td>\n",
              "      <td>Ansible</td>\n",
              "      <td>Github;Google Suite (Docs, Meet, etc)</td>\n",
              "      <td>Confluence;Jira;Github;Slack;Google Suite (Doc...</td>\n",
              "      <td>NaN</td>\n",
              "      <td>NaN</td>\n",
              "      <td>Very important</td>\n",
              "      <td>NaN</td>\n",
              "      <td>NaN</td>\n",
              "      <td>Once a year</td>\n",
              "      <td>No</td>\n",
              "      <td>NaN</td>\n",
              "      <td>Yes</td>\n",
              "      <td>NaN</td>\n",
              "      <td>Start a free trial;Ask developers I know/work ...</td>\n",
              "      <td>Hello, old friend</td>\n",
              "      <td>Stack Overflow (public Q&amp;A for anyone who code...</td>\n",
              "      <td>Call a coworker or friend;Visit Stack Overflow...</td>\n",
              "      <td>Windows</td>\n",
              "      <td>NaN</td>\n",
              "      <td>Docker;Google Cloud Platform;Heroku;Linux;Windows</td>\n",
              "      <td>AWS;Docker;Linux;MacOS;Windows</td>\n",
              "      <td>NaN</td>\n",
              "      <td>Straight / Heterosexual</td>\n",
              "      <td>Yes</td>\n",
              "      <td>Yes, somewhat</td>\n",
              "      <td>Less than once per month or monthly</td>\n",
              "      <td>A few times per month or weekly</td>\n",
              "      <td>Easy</td>\n",
              "      <td>Too short</td>\n",
              "      <td>No</td>\n",
              "      <td>Computer science, computer engineering, or sof...</td>\n",
              "      <td>Django;Ruby on Rails</td>\n",
              "      <td>Ruby on Rails</td>\n",
              "      <td>Just as welcome now as I felt last year</td>\n",
              "      <td>NaN</td>\n",
              "      <td>15</td>\n",
              "      <td>8</td>\n",
              "    </tr>\n",
              "  </tbody>\n",
              "</table>\n",
              "</div>"
            ],
            "text/plain": [
              "   Respondent  ... YearsCodePro\n",
              "0           1  ...           27\n",
              "1           2  ...            4\n",
              "2           3  ...          NaN\n",
              "3           4  ...            4\n",
              "4           5  ...            8\n",
              "\n",
              "[5 rows x 61 columns]"
            ]
          },
          "metadata": {
            "tags": []
          },
          "execution_count": 5
        }
      ]
    },
    {
      "cell_type": "code",
      "metadata": {
        "colab": {
          "base_uri": "https://localhost:8080/"
        },
        "id": "I5monCrDB_Cf",
        "outputId": "34bb011e-8a35-4558-8699-ebf4ddb72cf4"
      },
      "source": [
        "survey_schema.set_index('Column').T.to_dict('list')"
      ],
      "execution_count": null,
      "outputs": [
        {
          "output_type": "execute_result",
          "data": {
            "text/plain": [
              "{'Age': ['What is your age (in years)? If you prefer not to answer, you may leave this question blank.'],\n",
              " 'Age1stCode': ['At what age did you write your first line of code or program? (e.g., webpage, Hello World, Scratch project)'],\n",
              " 'CompFreq': ['Is that compensation weekly, monthly, or yearly?'],\n",
              " 'CompTotal': ['What is your current total compensation (salary, bonuses, and perks, before taxes and deductions), in `CurrencySymbol`? Please enter a whole number in the box below, without any punctuation. If you are paid hourly, please estimate an equivalent weekly, monthly, or yearly salary. If you prefer not to answer, please leave the box empty.'],\n",
              " 'ConvertedComp': ['Salary converted to annual USD salaries using the exchange rate on 2020-02-19, assuming 12 working months and 50 working weeks.'],\n",
              " 'Country': ['Where do you live?'],\n",
              " 'CurrencyDesc': [\"Which currency do you use day-to-day? If your answer is complicated, please pick the one you're most comfortable estimating in.\"],\n",
              " 'CurrencySymbol': [\"Which currency do you use day-to-day? If your answer is complicated, please pick the one you're most comfortable estimating in.\"],\n",
              " 'DatabaseDesireNextYear': ['Which database environments have you done extensive development work in over the past year, and which do you want to work in over the next year? (If you both worked with the database and want to continue to do so, please check both boxes in that row.)'],\n",
              " 'DatabaseWorkedWith': ['Which database environments have you done extensive development work in over the past year, and which do you want to work in over the next year? (If you both worked with the database and want to continue to do so, please check both boxes in that row.)'],\n",
              " 'DevType': ['Which of the following describe you? Please select all that apply.'],\n",
              " 'EdLevel': ['Which of the following best describes the highest level of formal education that you’ve completed?'],\n",
              " 'Employment': ['Which of the following best describes your current employment status?'],\n",
              " 'Ethnicity': ['Which of the following describe you, if any? Please check all that apply. If you prefer not to answer, you may leave this question blank.'],\n",
              " 'Gender': ['Which of the following describe you, if any? Please check all that apply. If you prefer not to answer, you may leave this question blank.'],\n",
              " 'Hobbyist': ['Do you code as a hobby?'],\n",
              " 'JobFactors': ['Imagine that you are deciding between two job offers with the same compensation, benefits, and location. Of the following factors, which 3 are MOST important to you?'],\n",
              " 'JobSat': ['How satisfied are you with your current job? (If you work multiple jobs, answer for the one you spend the most hours on.)'],\n",
              " 'JobSeek': ['Which of the following best describes your current job-seeking status?'],\n",
              " 'LanguageDesireNextYear': ['Which programming, scripting, and markup languages have you done extensive development work in over the past year, and which do you want to work in over the next year? (If you both worked with the language and want to continue to do so, please check both boxes in that row.)'],\n",
              " 'LanguageWorkedWith': ['Which programming, scripting, and markup languages have you done extensive development work in over the past year, and which do you want to work in over the next year? (If you both worked with the language and want to continue to do so, please check both boxes in that row.)'],\n",
              " 'MainBranch': ['Which of the following options best describes you today? Here, by \"developer\" we mean \"someone who writes code.\"'],\n",
              " 'MiscTechDesireNextYear': ['Which other frameworks, libraries, and tools have you done extensive development work in over the past year, and which do you want to work in over the next year? (If you both worked with the framework and want to continue to do so, please check both boxes in that row.)'],\n",
              " 'MiscTechWorkedWith': ['Which other frameworks, libraries, and tools have you done extensive development work in over the past year, and which do you want to work in over the next year? (If you both worked with the framework and want to continue to do so, please check both boxes in that row.)'],\n",
              " 'NEWCollabToolsDesireNextYear': ['Which collaboration tools have you done extensive development work in over the past year, and which do you want to work in over the next year? (If you worked with the tool and want to continue to do so, please check both boxes in that row.)'],\n",
              " 'NEWCollabToolsWorkedWith': ['Which collaboration tools have you done extensive development work in over the past year, and which do you want to work in over the next year? (If you worked with the tool and want to continue to do so, please check both boxes in that row.)'],\n",
              " 'NEWDevOps': ['Does your company have a dedicated DevOps person?'],\n",
              " 'NEWDevOpsImpt': ['How important is the practice of DevOps to scaling software development?'],\n",
              " 'NEWEdImpt': ['How important is a formal education, such as a university degree in computer science, to your career?'],\n",
              " 'NEWJobHunt': ['In general, what drives you to look for a new job? Select all that apply.'],\n",
              " 'NEWJobHuntResearch': ['When job searching, how do you learn more about a company? Select all that apply.'],\n",
              " 'NEWLearn': ['How frequently do you learn a new language or framework?'],\n",
              " 'NEWOffTopic': ['Do you think Stack Overflow should relax restrictions on what is considered “off-topic”?'],\n",
              " 'NEWOnboardGood': ['Do you think your company has a good onboarding process? (By onboarding, we mean the structured process of getting you settled in to your new role at a company)'],\n",
              " 'NEWOtherComms': ['Are you a member of any other online developer communities?'],\n",
              " 'NEWOvertime': ['How often do you work overtime or beyond the formal time expectation of your job?'],\n",
              " 'NEWPurchaseResearch': ['When buying a new tool or software, how do you discover and research available solutions? Select all that apply.'],\n",
              " 'NEWPurpleLink': ['You search for a coding solution online and the first result link is purple because you already visited it. How do you feel?'],\n",
              " 'NEWSOSites': ['Which of the following Stack Overflow sites have you visited? Select all that apply.'],\n",
              " 'NEWStuck': ['What do you do when you get stuck on a problem? Select all that apply.'],\n",
              " 'OpSys': ['What is the primary operating system in which you work?'],\n",
              " 'OrgSize': ['Approximately how many people are employed by the company or organization you currently work for?'],\n",
              " 'PlatformDesireNextYear': ['Which platforms have you done extensive development work in over the past year, and which do you want to work in over the next year? (If you both worked with the platform and want to continue to do so, please check both boxes in that row.)'],\n",
              " 'PlatformWorkedWith': ['Which platforms have you done extensive development work in over the past year, and which do you want to work in over the next year? (If you both worked with the platform and want to continue to do so, please check both boxes in that row.)'],\n",
              " 'PurchaseWhat': ['What level of influence do you, personally, have over new technology purchases at your organization?'],\n",
              " 'Respondent': ['Randomized respondent ID number (not in order of survey response time)'],\n",
              " 'SOAccount': ['Do you have a Stack Overflow account?'],\n",
              " 'SOComm': ['Do you consider yourself a member of the Stack Overflow community?'],\n",
              " 'SOPartFreq': ['How frequently would you say you participate in Q&A on Stack Overflow? By participate we mean ask, answer, vote for, or comment on questions.'],\n",
              " 'SOVisitFreq': ['How frequently would you say you visit Stack Overflow?'],\n",
              " 'Sexuality': ['Which of the following describe you, if any? Please check all that apply. If you prefer not to answer, you may leave this question blank.'],\n",
              " 'SurveyEase': ['How easy or difficult was this survey to complete?'],\n",
              " 'SurveyLength': ['How do you feel about the length of the survey this year?'],\n",
              " 'Trans': ['Are you transgender?'],\n",
              " 'UndergradMajor': ['What was your primary field of study?'],\n",
              " 'WebframeDesireNextYear': ['Which web frameworks have you done extensive development work in over the past year, and which do you want to work in over the next year? (If you both worked with the framework and want to continue to do so, please check both boxes in that row.)'],\n",
              " 'WebframeWorkedWith': ['Which web frameworks have you done extensive development work in over the past year, and which do you want to work in over the next year? (If you both worked with the framework and want to continue to do so, please check both boxes in that row.)'],\n",
              " 'WelcomeChange': ['Compared to last year, how welcome do you feel on Stack Overflow?'],\n",
              " 'WorkWeekHrs': ['On average, how many hours per week do you work? Please enter a whole number in the box.'],\n",
              " 'YearsCode': ['Including any education, how many years have you been coding in total?'],\n",
              " 'YearsCodePro': ['NOT including education, how many years have you coded professionally (as a part of your work)?']}"
            ]
          },
          "metadata": {
            "tags": []
          },
          "execution_count": 18
        }
      ]
    },
    {
      "cell_type": "markdown",
      "metadata": {
        "id": "eOAbUUkG2VLq"
      },
      "source": [
        "Selecting the subset of columns I want to use for my analysis and storing that in a dataframe called survey_subset."
      ]
    },
    {
      "cell_type": "code",
      "metadata": {
        "id": "U2ghpLURCCkj"
      },
      "source": [
        "survey_subset = survey_public[['WorkWeekHrs','YearsCode','YearsCodePro','UndergradMajor','SOVisitFreq','PlatformWorkedWith','PlatformDesireNextYear',\n",
        "                               'NEWOvertime','NEWOtherComms','NEWLearn','NEWJobHuntResearch',\n",
        "                               'NEWEdImpt','NEWCollabToolsDesireNextYear','MiscTechDesireNextYear','MainBranch','LanguageWorkedWith','LanguageDesireNextYear',\n",
        "                               'JobSat','JobFactors','EdLevel','Employment','DevType','DatabaseWorkedWith','DatabaseDesireNextYear','ConvertedComp','Age']]"
      ],
      "execution_count": null,
      "outputs": []
    },
    {
      "cell_type": "code",
      "metadata": {
        "colab": {
          "base_uri": "https://localhost:8080/",
          "height": 598
        },
        "id": "h-B3cSXfF_08",
        "outputId": "183a946e-9e39-4b90-c44f-2c6f87ac4381"
      },
      "source": [
        "survey_subset.head()"
      ],
      "execution_count": null,
      "outputs": [
        {
          "output_type": "execute_result",
          "data": {
            "text/html": [
              "<div>\n",
              "<style scoped>\n",
              "    .dataframe tbody tr th:only-of-type {\n",
              "        vertical-align: middle;\n",
              "    }\n",
              "\n",
              "    .dataframe tbody tr th {\n",
              "        vertical-align: top;\n",
              "    }\n",
              "\n",
              "    .dataframe thead th {\n",
              "        text-align: right;\n",
              "    }\n",
              "</style>\n",
              "<table border=\"1\" class=\"dataframe\">\n",
              "  <thead>\n",
              "    <tr style=\"text-align: right;\">\n",
              "      <th></th>\n",
              "      <th>WorkWeekHrs</th>\n",
              "      <th>YearsCode</th>\n",
              "      <th>YearsCodePro</th>\n",
              "      <th>UndergradMajor</th>\n",
              "      <th>SOVisitFreq</th>\n",
              "      <th>PlatformWorkedWith</th>\n",
              "      <th>PlatformDesireNextYear</th>\n",
              "      <th>NEWOvertime</th>\n",
              "      <th>NEWOtherComms</th>\n",
              "      <th>NEWLearn</th>\n",
              "      <th>NEWJobHuntResearch</th>\n",
              "      <th>NEWEdImpt</th>\n",
              "      <th>NEWCollabToolsDesireNextYear</th>\n",
              "      <th>MiscTechDesireNextYear</th>\n",
              "      <th>MainBranch</th>\n",
              "      <th>LanguageWorkedWith</th>\n",
              "      <th>LanguageDesireNextYear</th>\n",
              "      <th>JobSat</th>\n",
              "      <th>JobFactors</th>\n",
              "      <th>EdLevel</th>\n",
              "      <th>Employment</th>\n",
              "      <th>DevType</th>\n",
              "      <th>DatabaseWorkedWith</th>\n",
              "      <th>DatabaseDesireNextYear</th>\n",
              "      <th>ConvertedComp</th>\n",
              "      <th>Age</th>\n",
              "    </tr>\n",
              "  </thead>\n",
              "  <tbody>\n",
              "    <tr>\n",
              "      <th>0</th>\n",
              "      <td>50.0</td>\n",
              "      <td>36</td>\n",
              "      <td>27</td>\n",
              "      <td>Computer science, computer engineering, or sof...</td>\n",
              "      <td>Multiple times per day</td>\n",
              "      <td>Windows</td>\n",
              "      <td>Android;iOS;Kubernetes;Microsoft Azure;Windows</td>\n",
              "      <td>Often: 1-2 days per week or more</td>\n",
              "      <td>No</td>\n",
              "      <td>Once a year</td>\n",
              "      <td>NaN</td>\n",
              "      <td>Fairly important</td>\n",
              "      <td>Microsoft Teams;Microsoft Azure;Trello</td>\n",
              "      <td>.NET Core;Xamarin</td>\n",
              "      <td>I am a developer by profession</td>\n",
              "      <td>C#;HTML/CSS;JavaScript</td>\n",
              "      <td>C#;HTML/CSS;JavaScript</td>\n",
              "      <td>Slightly satisfied</td>\n",
              "      <td>Languages, frameworks, and other technologies ...</td>\n",
              "      <td>Master’s degree (M.A., M.S., M.Eng., MBA, etc.)</td>\n",
              "      <td>Independent contractor, freelancer, or self-em...</td>\n",
              "      <td>Developer, desktop or enterprise applications;...</td>\n",
              "      <td>Elasticsearch;Microsoft SQL Server;Oracle</td>\n",
              "      <td>Microsoft SQL Server</td>\n",
              "      <td>NaN</td>\n",
              "      <td>NaN</td>\n",
              "    </tr>\n",
              "    <tr>\n",
              "      <th>1</th>\n",
              "      <td>NaN</td>\n",
              "      <td>7</td>\n",
              "      <td>4</td>\n",
              "      <td>Computer science, computer engineering, or sof...</td>\n",
              "      <td>Multiple times per day</td>\n",
              "      <td>iOS</td>\n",
              "      <td>iOS;Kubernetes;Linux;MacOS</td>\n",
              "      <td>NaN</td>\n",
              "      <td>No</td>\n",
              "      <td>Once a year</td>\n",
              "      <td>NaN</td>\n",
              "      <td>Fairly important</td>\n",
              "      <td>Github;Slack</td>\n",
              "      <td>React Native;TensorFlow;Unity 3D</td>\n",
              "      <td>I am a developer by profession</td>\n",
              "      <td>JavaScript;Swift</td>\n",
              "      <td>Python;Swift</td>\n",
              "      <td>Very dissatisfied</td>\n",
              "      <td>NaN</td>\n",
              "      <td>Bachelor’s degree (B.A., B.S., B.Eng., etc.)</td>\n",
              "      <td>Employed full-time</td>\n",
              "      <td>Developer, full-stack;Developer, mobile</td>\n",
              "      <td>NaN</td>\n",
              "      <td>NaN</td>\n",
              "      <td>NaN</td>\n",
              "      <td>NaN</td>\n",
              "    </tr>\n",
              "    <tr>\n",
              "      <th>2</th>\n",
              "      <td>NaN</td>\n",
              "      <td>4</td>\n",
              "      <td>NaN</td>\n",
              "      <td>NaN</td>\n",
              "      <td>Daily or almost daily</td>\n",
              "      <td>NaN</td>\n",
              "      <td>NaN</td>\n",
              "      <td>NaN</td>\n",
              "      <td>No</td>\n",
              "      <td>Once a decade</td>\n",
              "      <td>NaN</td>\n",
              "      <td>NaN</td>\n",
              "      <td>NaN</td>\n",
              "      <td>NaN</td>\n",
              "      <td>I code primarily as a hobby</td>\n",
              "      <td>Objective-C;Python;Swift</td>\n",
              "      <td>Objective-C;Python;Swift</td>\n",
              "      <td>NaN</td>\n",
              "      <td>NaN</td>\n",
              "      <td>NaN</td>\n",
              "      <td>NaN</td>\n",
              "      <td>NaN</td>\n",
              "      <td>NaN</td>\n",
              "      <td>NaN</td>\n",
              "      <td>NaN</td>\n",
              "      <td>NaN</td>\n",
              "    </tr>\n",
              "    <tr>\n",
              "      <th>3</th>\n",
              "      <td>40.0</td>\n",
              "      <td>7</td>\n",
              "      <td>4</td>\n",
              "      <td>Computer science, computer engineering, or sof...</td>\n",
              "      <td>Multiple times per day</td>\n",
              "      <td>NaN</td>\n",
              "      <td>NaN</td>\n",
              "      <td>Occasionally: 1-2 days per quarter but less th...</td>\n",
              "      <td>Yes</td>\n",
              "      <td>Once a year</td>\n",
              "      <td>NaN</td>\n",
              "      <td>Not at all important/not necessary</td>\n",
              "      <td>NaN</td>\n",
              "      <td>NaN</td>\n",
              "      <td>I am a developer by profession</td>\n",
              "      <td>NaN</td>\n",
              "      <td>NaN</td>\n",
              "      <td>Slightly dissatisfied</td>\n",
              "      <td>Flex time or a flexible schedule;Office enviro...</td>\n",
              "      <td>Master’s degree (M.A., M.S., M.Eng., MBA, etc.)</td>\n",
              "      <td>NaN</td>\n",
              "      <td>NaN</td>\n",
              "      <td>NaN</td>\n",
              "      <td>NaN</td>\n",
              "      <td>NaN</td>\n",
              "      <td>25.0</td>\n",
              "    </tr>\n",
              "    <tr>\n",
              "      <th>4</th>\n",
              "      <td>NaN</td>\n",
              "      <td>15</td>\n",
              "      <td>8</td>\n",
              "      <td>Computer science, computer engineering, or sof...</td>\n",
              "      <td>A few times per month or weekly</td>\n",
              "      <td>AWS;Docker;Linux;MacOS;Windows</td>\n",
              "      <td>Docker;Google Cloud Platform;Heroku;Linux;Windows</td>\n",
              "      <td>NaN</td>\n",
              "      <td>Yes</td>\n",
              "      <td>Once a year</td>\n",
              "      <td>NaN</td>\n",
              "      <td>Very important</td>\n",
              "      <td>Github;Google Suite (Docs, Meet, etc)</td>\n",
              "      <td>Ansible;Chef</td>\n",
              "      <td>I used to be a developer by profession, but no...</td>\n",
              "      <td>HTML/CSS;Ruby;SQL</td>\n",
              "      <td>Java;Ruby;Scala</td>\n",
              "      <td>NaN</td>\n",
              "      <td>NaN</td>\n",
              "      <td>Bachelor’s degree (B.A., B.S., B.Eng., etc.)</td>\n",
              "      <td>Employed full-time</td>\n",
              "      <td>NaN</td>\n",
              "      <td>MySQL;PostgreSQL;Redis;SQLite</td>\n",
              "      <td>MySQL;PostgreSQL</td>\n",
              "      <td>NaN</td>\n",
              "      <td>31.0</td>\n",
              "    </tr>\n",
              "  </tbody>\n",
              "</table>\n",
              "</div>"
            ],
            "text/plain": [
              "   WorkWeekHrs YearsCode  ... ConvertedComp   Age\n",
              "0         50.0        36  ...           NaN   NaN\n",
              "1          NaN         7  ...           NaN   NaN\n",
              "2          NaN         4  ...           NaN   NaN\n",
              "3         40.0         7  ...           NaN  25.0\n",
              "4          NaN        15  ...           NaN  31.0\n",
              "\n",
              "[5 rows x 26 columns]"
            ]
          },
          "metadata": {
            "tags": []
          },
          "execution_count": 20
        }
      ]
    },
    {
      "cell_type": "code",
      "metadata": {
        "colab": {
          "base_uri": "https://localhost:8080/"
        },
        "id": "dUAcLzWlGwf6",
        "outputId": "1aa348d9-2ce6-4328-82b2-d72be029f9f1"
      },
      "source": [
        "survey_subset.shape"
      ],
      "execution_count": null,
      "outputs": [
        {
          "output_type": "execute_result",
          "data": {
            "text/plain": [
              "(64461, 26)"
            ]
          },
          "metadata": {
            "tags": []
          },
          "execution_count": 24
        }
      ]
    },
    {
      "cell_type": "code",
      "metadata": {
        "colab": {
          "base_uri": "https://localhost:8080/",
          "height": 297
        },
        "id": "PtzLfk7Uh2RY",
        "outputId": "4a6ee2d0-90b1-4949-fcf8-ddb0078ee52d"
      },
      "source": [
        "survey_subset.describe()"
      ],
      "execution_count": null,
      "outputs": [
        {
          "output_type": "execute_result",
          "data": {
            "text/html": [
              "<div>\n",
              "<style scoped>\n",
              "    .dataframe tbody tr th:only-of-type {\n",
              "        vertical-align: middle;\n",
              "    }\n",
              "\n",
              "    .dataframe tbody tr th {\n",
              "        vertical-align: top;\n",
              "    }\n",
              "\n",
              "    .dataframe thead th {\n",
              "        text-align: right;\n",
              "    }\n",
              "</style>\n",
              "<table border=\"1\" class=\"dataframe\">\n",
              "  <thead>\n",
              "    <tr style=\"text-align: right;\">\n",
              "      <th></th>\n",
              "      <th>WorkWeekHrs</th>\n",
              "      <th>ConvertedComp</th>\n",
              "      <th>Age</th>\n",
              "    </tr>\n",
              "  </thead>\n",
              "  <tbody>\n",
              "    <tr>\n",
              "      <th>count</th>\n",
              "      <td>41151.000000</td>\n",
              "      <td>3.475600e+04</td>\n",
              "      <td>45446.000000</td>\n",
              "    </tr>\n",
              "    <tr>\n",
              "      <th>mean</th>\n",
              "      <td>40.782174</td>\n",
              "      <td>1.037561e+05</td>\n",
              "      <td>30.834111</td>\n",
              "    </tr>\n",
              "    <tr>\n",
              "      <th>std</th>\n",
              "      <td>17.816383</td>\n",
              "      <td>2.268853e+05</td>\n",
              "      <td>9.585392</td>\n",
              "    </tr>\n",
              "    <tr>\n",
              "      <th>min</th>\n",
              "      <td>1.000000</td>\n",
              "      <td>0.000000e+00</td>\n",
              "      <td>1.000000</td>\n",
              "    </tr>\n",
              "    <tr>\n",
              "      <th>25%</th>\n",
              "      <td>40.000000</td>\n",
              "      <td>2.464800e+04</td>\n",
              "      <td>24.000000</td>\n",
              "    </tr>\n",
              "    <tr>\n",
              "      <th>50%</th>\n",
              "      <td>40.000000</td>\n",
              "      <td>5.404900e+04</td>\n",
              "      <td>29.000000</td>\n",
              "    </tr>\n",
              "    <tr>\n",
              "      <th>75%</th>\n",
              "      <td>44.000000</td>\n",
              "      <td>9.500000e+04</td>\n",
              "      <td>35.000000</td>\n",
              "    </tr>\n",
              "    <tr>\n",
              "      <th>max</th>\n",
              "      <td>475.000000</td>\n",
              "      <td>2.000000e+06</td>\n",
              "      <td>279.000000</td>\n",
              "    </tr>\n",
              "  </tbody>\n",
              "</table>\n",
              "</div>"
            ],
            "text/plain": [
              "        WorkWeekHrs  ConvertedComp           Age\n",
              "count  41151.000000   3.475600e+04  45446.000000\n",
              "mean      40.782174   1.037561e+05     30.834111\n",
              "std       17.816383   2.268853e+05      9.585392\n",
              "min        1.000000   0.000000e+00      1.000000\n",
              "25%       40.000000   2.464800e+04     24.000000\n",
              "50%       40.000000   5.404900e+04     29.000000\n",
              "75%       44.000000   9.500000e+04     35.000000\n",
              "max      475.000000   2.000000e+06    279.000000"
            ]
          },
          "metadata": {
            "tags": []
          },
          "execution_count": 25
        }
      ]
    },
    {
      "cell_type": "code",
      "metadata": {
        "colab": {
          "base_uri": "https://localhost:8080/",
          "height": 281
        },
        "id": "D7iHYv1Tl24I",
        "outputId": "12e3e87a-0f70-40be-8063-855de7438b8b"
      },
      "source": [
        "survey_subset.hist();"
      ],
      "execution_count": null,
      "outputs": [
        {
          "output_type": "display_data",
          "data": {
            "image/png": "[encoded data removed]",
            "text/plain": [
              "<Figure size 432x288 with 4 Axes>"
            ]
          },
          "metadata": {
            "tags": [],
            "needs_background": "light"
          }
        }
      ]
    },
    {
      "cell_type": "code",
      "metadata": {
        "colab": {
          "base_uri": "https://localhost:8080/",
          "height": 286
        },
        "id": "-SqUN0Q-l7uU",
        "outputId": "1f82b72e-f77f-4ab4-a839-17b6c8ea2e85"
      },
      "source": [
        "import seaborn as sns\n",
        "sns.heatmap(survey_subset.corr(), annot=True, fmt=\".2f\")"
      ],
      "execution_count": null,
      "outputs": [
        {
          "output_type": "execute_result",
          "data": {
            "text/plain": [
              "<matplotlib.axes._subplots.AxesSubplot at 0x7f5630e6bd90>"
            ]
          },
          "metadata": {
            "tags": []
          },
          "execution_count": 27
        },
        {
          "output_type": "display_data",
          "data": {
            "image/png": "[encoded data removed]",
            "text/plain": [
              "<Figure size 432x288 with 2 Axes>"
            ]
          },
          "metadata": {
            "tags": [],
            "needs_background": "light"
          }
        }
      ]
    },
    {
      "cell_type": "code",
      "metadata": {
        "colab": {
          "base_uri": "https://localhost:8080/"
        },
        "id": "uuRwgir1mK-H",
        "outputId": "73cfca68-ddcb-442e-8968-bc8da14006f9"
      },
      "source": [
        "survey_subset.dtypes"
      ],
      "execution_count": null,
      "outputs": [
        {
          "output_type": "execute_result",
          "data": {
            "text/plain": [
              "WorkWeekHrs                     float64\n",
              "YearsCode                        object\n",
              "YearsCodePro                     object\n",
              "UndergradMajor                   object\n",
              "SOVisitFreq                      object\n",
              "PlatformWorkedWith               object\n",
              "PlatformDesireNextYear           object\n",
              "NEWOvertime                      object\n",
              "NEWOtherComms                    object\n",
              "NEWLearn                         object\n",
              "NEWJobHuntResearch               object\n",
              "NEWEdImpt                        object\n",
              "NEWCollabToolsDesireNextYear     object\n",
              "MiscTechDesireNextYear           object\n",
              "MainBranch                       object\n",
              "LanguageWorkedWith               object\n",
              "LanguageDesireNextYear           object\n",
              "JobSat                           object\n",
              "JobFactors                       object\n",
              "EdLevel                          object\n",
              "Employment                       object\n",
              "DevType                          object\n",
              "DatabaseWorkedWith               object\n",
              "DatabaseDesireNextYear           object\n",
              "ConvertedComp                   float64\n",
              "Age                             float64\n",
              "dtype: object"
            ]
          },
          "metadata": {
            "tags": []
          },
          "execution_count": 28
        }
      ]
    },
    {
      "cell_type": "code",
      "metadata": {
        "colab": {
          "base_uri": "https://localhost:8080/"
        },
        "id": "OrjyUpv8GBju",
        "outputId": "ea7ad954-d08a-49a7-db50-eb4d2f50320d"
      },
      "source": [
        "#What are the counts of each Undergrad Major \n",
        "survey_subset.UndergradMajor.value_counts()"
      ],
      "execution_count": null,
      "outputs": [
        {
          "output_type": "execute_result",
          "data": {
            "text/plain": [
              "Computer science, computer engineering, or software engineering                   31582\n",
              "Another engineering discipline (such as civil, electrical, mechanical, etc.)       4754\n",
              "Information systems, information technology, or system administration              4071\n",
              "A natural science (such as biology, chemistry, physics, etc.)                      2205\n",
              "Mathematics or statistics                                                          1849\n",
              "Web development or web design                                                      1789\n",
              "A business discipline (such as accounting, finance, marketing, etc.)               1375\n",
              "A humanities discipline (such as literature, history, philosophy, etc.)            1007\n",
              "A social science (such as anthropology, psychology, political science, etc.)        933\n",
              "Fine arts or performing arts (such as graphic design, music, studio art, etc.)      725\n",
              "I never declared a major                                                            453\n",
              "A health science (such as nursing, pharmacy, radiology, etc.)                       252\n",
              "Name: UndergradMajor, dtype: int64"
            ]
          },
          "metadata": {
            "tags": []
          },
          "execution_count": 21
        }
      ]
    },
    {
      "cell_type": "code",
      "metadata": {
        "colab": {
          "base_uri": "https://localhost:8080/"
        },
        "id": "wbJmfaK0Gq3X",
        "outputId": "0c2e258f-8530-4695-c40d-21c23c3c4eb0"
      },
      "source": [
        "#What platforms are most common as of 2020\n",
        "survey_subset.PlatformWorkedWith.value_counts()"
      ],
      "execution_count": null,
      "outputs": [
        {
          "output_type": "execute_result",
          "data": {
            "text/plain": [
              "Windows                                                                                                          4770\n",
              "Linux;Windows                                                                                                    2461\n",
              "Linux                                                                                                            2112\n",
              "Android                                                                                                          1201\n",
              "Microsoft Azure;Windows                                                                                           996\n",
              "                                                                                                                 ... \n",
              "AWS;Linux;Slack Apps and Integrations;WordPress                                                                     1\n",
              "Android;AWS;Docker;Google Cloud Platform;Kubernetes;Linux;MacOS;Slack Apps and Integrations;Windows;WordPress       1\n",
              "Android;Google Cloud Platform;Kubernetes;MacOS;Raspberry Pi;Slack Apps and Integrations                             1\n",
              "Arduino;AWS;IBM Cloud or Watson;Linux;MacOS;Raspberry Pi;Windows                                                    1\n",
              "Android;Kubernetes;Windows                                                                                          1\n",
              "Name: PlatformWorkedWith, Length: 6287, dtype: int64"
            ]
          },
          "metadata": {
            "tags": []
          },
          "execution_count": 23
        }
      ]
    },
    {
      "cell_type": "code",
      "metadata": {
        "colab": {
          "base_uri": "https://localhost:8080/"
        },
        "id": "ecBEt_IPGhmv",
        "outputId": "766ef315-c0ec-4b64-f938-eeb34dab734e"
      },
      "source": [
        "#What platforms are most popular in terms of what people want to work with in the future\n",
        "survey_subset.PlatformDesireNextYear.value_counts()"
      ],
      "execution_count": null,
      "outputs": [
        {
          "output_type": "execute_result",
          "data": {
            "text/plain": [
              "Linux                                                                            2011\n",
              "Windows                                                                          1747\n",
              "Linux;Windows                                                                    1126\n",
              "Android                                                                           823\n",
              "Docker;Linux                                                                      784\n",
              "                                                                                 ... \n",
              "AWS;Docker;Google Cloud Platform;Heroku;Linux;Windows;WordPress                     1\n",
              "Android;Google Cloud Platform;IBM Cloud or Watson;Linux;MacOS;Microsoft Azure       1\n",
              "Android;Arduino;Google Cloud Platform;iOS;MacOS;Windows                             1\n",
              "Google Cloud Platform;iOS;Microsoft Azure;Raspberry Pi                              1\n",
              "AWS;IBM Cloud or Watson;iOS;Kubernetes;Linux;MacOS;Raspberry Pi;WordPress           1\n",
              "Name: PlatformDesireNextYear, Length: 7471, dtype: int64"
            ]
          },
          "metadata": {
            "tags": []
          },
          "execution_count": 22
        }
      ]
    },
    {
      "cell_type": "markdown",
      "metadata": {
        "id": "6Q4bmzLe3MKs"
      },
      "source": [
        "These values seems to have multiple entires within the same column. Need to find individual counts of each of these."
      ]
    },
    {
      "cell_type": "code",
      "metadata": {
        "colab": {
          "base_uri": "https://localhost:8080/"
        },
        "id": "RwSVmww_novI",
        "outputId": "06cb0afe-88f5-4b8b-aa19-cc886e39e698"
      },
      "source": [
        "#Splitting the column based on the delimiter ; to obtain individual entries. Note that these can be joined back to the DF to obtain individual rows for each entry.\n",
        "platform_series = survey_subset['PlatformWorkedWith'].str.split(';').apply(pd.Series,1).stack()\n",
        "platform_series.index = platform_series.index.droplevel(-1)\n",
        "platform_series.name = 'PlatformWorkedWith'\n",
        "platform_series"
      ],
      "execution_count": null,
      "outputs": [
        {
          "output_type": "execute_result",
          "data": {
            "text/plain": [
              "0             Windows\n",
              "1                 iOS\n",
              "4                 AWS\n",
              "4              Docker\n",
              "4               Linux\n",
              "             ...     \n",
              "64460         Android\n",
              "64460         Arduino\n",
              "64460           Linux\n",
              "64460    Raspberry Pi\n",
              "64460         Windows\n",
              "Name: PlatformWorkedWith, Length: 178721, dtype: object"
            ]
          },
          "metadata": {
            "tags": []
          },
          "execution_count": 53
        }
      ]
    },
    {
      "cell_type": "code",
      "metadata": {
        "colab": {
          "base_uri": "https://localhost:8080/",
          "height": 282
        },
        "id": "NMS4r308ujKQ",
        "outputId": "f2ae8121-b6ef-42a0-faa9-8087baec9403"
      },
      "source": [
        "#Distribution of Platforms worked with in 2020.\n",
        "platform_series.value_counts().plot(kind = 'barh')"
      ],
      "execution_count": null,
      "outputs": [
        {
          "output_type": "execute_result",
          "data": {
            "text/plain": [
              "<matplotlib.axes._subplots.AxesSubplot at 0x7f560f4a12d0>"
            ]
          },
          "metadata": {
            "tags": []
          },
          "execution_count": 54
        },
        {
          "output_type": "display_data",
          "data": {
            "image/png": "[encoded data removed]",
            "text/plain": [
              "<Figure size 432x288 with 1 Axes>"
            ]
          },
          "metadata": {
            "tags": [],
            "needs_background": "light"
          }
        }
      ]
    },
    {
      "cell_type": "markdown",
      "metadata": {
        "id": "Ohue4WYi4IC8"
      },
      "source": [
        "Linux is the most popular. Now I want to know what's the popular platform in terms of future interest."
      ]
    },
    {
      "cell_type": "code",
      "metadata": {
        "colab": {
          "base_uri": "https://localhost:8080/"
        },
        "id": "9nX5-9-zvRee",
        "outputId": "fb0d9cd8-acbd-4fa4-bf53-a20cf1d18eb5"
      },
      "source": [
        "#Same operation as above. This returns a series.\n",
        "platform_desired_ny = survey_subset['PlatformDesireNextYear'].str.split(';').apply(pd.Series,1).stack()\n",
        "platform_desired_ny.index = platform_desired_ny.index.droplevel(-1)\n",
        "platform_desired_ny.name = 'PlatformDesireNextYear'\n",
        "platform_desired_ny"
      ],
      "execution_count": null,
      "outputs": [
        {
          "output_type": "execute_result",
          "data": {
            "text/plain": [
              "0                Android\n",
              "0                    iOS\n",
              "0             Kubernetes\n",
              "0        Microsoft Azure\n",
              "0                Windows\n",
              "              ...       \n",
              "64455            Android\n",
              "64460            Arduino\n",
              "64460              Linux\n",
              "64460       Raspberry Pi\n",
              "64460            Windows\n",
              "Name: PlatformDesireNextYear, Length: 191869, dtype: object"
            ]
          },
          "metadata": {
            "tags": []
          },
          "execution_count": 55
        }
      ]
    },
    {
      "cell_type": "code",
      "metadata": {
        "colab": {
          "base_uri": "https://localhost:8080/",
          "height": 282
        },
        "id": "b9FmwYqzwS8r",
        "outputId": "b9a452de-b35a-4883-de4d-3fe467774622"
      },
      "source": [
        "#Distribution of popularity of platforms people want to work on in the near future.\n",
        "platform_desired_ny.value_counts().plot(kind = 'barh')"
      ],
      "execution_count": null,
      "outputs": [
        {
          "output_type": "execute_result",
          "data": {
            "text/plain": [
              "<matplotlib.axes._subplots.AxesSubplot at 0x7f560dd5b850>"
            ]
          },
          "metadata": {
            "tags": []
          },
          "execution_count": 56
        },
        {
          "output_type": "display_data",
          "data": {
            "image/png": "[encoded data removed]",
            "text/plain": [
              "<Figure size 432x288 with 1 Axes>"
            ]
          },
          "metadata": {
            "tags": [],
            "needs_background": "light"
          }
        }
      ]
    },
    {
      "cell_type": "code",
      "metadata": {
        "colab": {
          "base_uri": "https://localhost:8080/",
          "height": 282
        },
        "id": "gxzgg4CewYzN",
        "outputId": "471b55d0-34b4-4f9e-c6f8-1a1eebf1722f"
      },
      "source": [
        "#Distribution of Miscellaneous frameworks people want to work on in the near future\n",
        "tech_desired_ny = survey_subset['MiscTechDesireNextYear'].str.split(';').apply(pd.Series,1).stack()\n",
        "tech_desired_ny.index = tech_desired_ny.index.droplevel(-1)\n",
        "tech_desired_ny.name = 'MiscTechDesireNextYear'\n",
        "tech_desired_ny.value_counts().plot(kind = 'barh')"
      ],
      "execution_count": null,
      "outputs": [
        {
          "output_type": "execute_result",
          "data": {
            "text/plain": [
              "<matplotlib.axes._subplots.AxesSubplot at 0x7f560d4cd350>"
            ]
          },
          "metadata": {
            "tags": []
          },
          "execution_count": 57
        },
        {
          "output_type": "display_data",
          "data": {
            "image/png": "[encoded data removed]",
            "text/plain": [
              "<Figure size 432x288 with 1 Axes>"
            ]
          },
          "metadata": {
            "tags": [],
            "needs_background": "light"
          }
        }
      ]
    },
    {
      "cell_type": "code",
      "metadata": {
        "colab": {
          "base_uri": "https://localhost:8080/",
          "height": 282
        },
        "id": "8S58mHkCwvEE",
        "outputId": "cd4521b0-af34-4c7c-eb73-3ba6869e73c5"
      },
      "source": [
        "#Most popular choice of collaboration tools the community uses/wants to use.\n",
        "colab_desired_ny = survey_subset['NEWCollabToolsDesireNextYear'].str.split(';').apply(pd.Series,1).stack()\n",
        "colab_desired_ny.index = colab_desired_ny.index.droplevel(-1)\n",
        "colab_desired_ny.name = 'NEWCollabToolsDesireNextYear'\n",
        "colab_desired_ny.value_counts().plot(kind = 'barh')"
      ],
      "execution_count": null,
      "outputs": [
        {
          "output_type": "execute_result",
          "data": {
            "text/plain": [
              "<matplotlib.axes._subplots.AxesSubplot at 0x7f560c4a1490>"
            ]
          },
          "metadata": {
            "tags": []
          },
          "execution_count": 58
        },
        {
          "output_type": "display_data",
          "data": {
            "image/png": "[encoded data removed]",
            "text/plain": [
              "<Figure size 432x288 with 1 Axes>"
            ]
          },
          "metadata": {
            "tags": [],
            "needs_background": "light"
          }
        }
      ]
    },
    {
      "cell_type": "code",
      "metadata": {
        "colab": {
          "base_uri": "https://localhost:8080/",
          "height": 282
        },
        "id": "AmIiFBRHxwbq",
        "outputId": "f87a26f0-bc23-4d7b-fa46-529aacf4616a"
      },
      "source": [
        "#Programming Languages the community wants to learn in the future.\n",
        "language = survey_subset['LanguageDesireNextYear'].str.split(';').apply(pd.Series,1).stack()\n",
        "language.index = language.index.droplevel(-1)\n",
        "language.name = 'LanguageDesireNextYear'\n",
        "language.value_counts().plot(kind = 'barh')"
      ],
      "execution_count": null,
      "outputs": [
        {
          "output_type": "execute_result",
          "data": {
            "text/plain": [
              "<matplotlib.axes._subplots.AxesSubplot at 0x7f560a8ff3d0>"
            ]
          },
          "metadata": {
            "tags": []
          },
          "execution_count": 61
        },
        {
          "output_type": "display_data",
          "data": {
            "image/png": "[encoded data removed]",
            "text/plain": [
              "<Figure size 432x288 with 1 Axes>"
            ]
          },
          "metadata": {
            "tags": [],
            "needs_background": "light"
          }
        }
      ]
    },
    {
      "cell_type": "markdown",
      "metadata": {
        "id": "rhD1B40a5iTk"
      },
      "source": [
        "Python and JavaScript seem to be in big demand. Not surprised."
      ]
    },
    {
      "cell_type": "code",
      "metadata": {
        "colab": {
          "base_uri": "https://localhost:8080/",
          "height": 282
        },
        "id": "TFsHDBTEyuK_",
        "outputId": "b9985d73-a83f-4ca4-b572-2a47bf46ee63"
      },
      "source": [
        "#Distribution of popularity of databases worked with as of 2020.\n",
        "database_old = survey_subset['DatabaseWorkedWith'].str.split(';').apply(pd.Series,1).stack()\n",
        "database_old.index = database_old.index.droplevel(-1)\n",
        "database_old.name = 'DatabaseWorkedWith'\n",
        "database_old.value_counts().plot(kind = 'barh')"
      ],
      "execution_count": null,
      "outputs": [
        {
          "output_type": "execute_result",
          "data": {
            "text/plain": [
              "<matplotlib.axes._subplots.AxesSubplot at 0x7f5609ffc490>"
            ]
          },
          "metadata": {
            "tags": []
          },
          "execution_count": 63
        },
        {
          "output_type": "display_data",
          "data": {
            "image/png": "[encoded data removed]",
            "text/plain": [
              "<Figure size 432x288 with 1 Axes>"
            ]
          },
          "metadata": {
            "tags": [],
            "needs_background": "light"
          }
        }
      ]
    },
    {
      "cell_type": "code",
      "metadata": {
        "colab": {
          "base_uri": "https://localhost:8080/",
          "height": 282
        },
        "id": "Sz99CvGdybhZ",
        "outputId": "258c077b-9175-447f-d959-96f6e0a7623b"
      },
      "source": [
        "#Distribution of popularity of frameworks the community wants to learn in the future.\n",
        "database = survey_subset['DatabaseDesireNextYear'].str.split(';').apply(pd.Series,1).stack()\n",
        "database.index = database.index.droplevel(-1)\n",
        "database.name = 'DatabaseDesireNextYear'\n",
        "database.value_counts().plot(kind = 'barh')"
      ],
      "execution_count": null,
      "outputs": [
        {
          "output_type": "execute_result",
          "data": {
            "text/plain": [
              "<matplotlib.axes._subplots.AxesSubplot at 0x7f560a347510>"
            ]
          },
          "metadata": {
            "tags": []
          },
          "execution_count": 62
        },
        {
          "output_type": "display_data",
          "data": {
            "image/png": "[encoded data removed]",
            "text/plain": [
              "<Figure size 432x288 with 1 Axes>"
            ]
          },
          "metadata": {
            "tags": [],
            "needs_background": "light"
          }
        }
      ]
    },
    {
      "cell_type": "markdown",
      "metadata": {
        "id": "Ig8Y1TWl6G8A"
      },
      "source": [
        "Now, I'm trying to find the average salaries(converted to USD) based on the education level."
      ]
    },
    {
      "cell_type": "code",
      "metadata": {
        "colab": {
          "base_uri": "https://localhost:8080/",
          "height": 271
        },
        "id": "iZwlqiva8eUP",
        "outputId": "3109b346-672a-4eda-c39d-9bb31aaa9e59"
      },
      "source": [
        "#X-axis reflects amounts in USD\n",
        "survey_subset.groupby('EdLevel').ConvertedComp.mean().plot(kind = 'barh')"
      ],
      "execution_count": null,
      "outputs": [
        {
          "output_type": "execute_result",
          "data": {
            "text/plain": [
              "<matplotlib.axes._subplots.AxesSubplot at 0x7f5609ff54d0>"
            ]
          },
          "metadata": {
            "tags": []
          },
          "execution_count": 73
        },
        {
          "output_type": "display_data",
          "data": {
            "image/png": "[encoded data removed]",
            "text/plain": [
              "<Figure size 432x288 with 1 Axes>"
            ]
          },
          "metadata": {
            "tags": [],
            "needs_background": "light"
          }
        }
      ]
    },
    {
      "cell_type": "markdown",
      "metadata": {
        "id": "SViZbDwc6k2o"
      },
      "source": [
        "Finally, I want to find average salaries based on the types of roles. Specifically for Data Scientists."
      ]
    },
    {
      "cell_type": "code",
      "metadata": {
        "colab": {
          "base_uri": "https://localhost:8080/",
          "height": 598
        },
        "id": "78kb2yRcFMp5",
        "outputId": "6ae9867d-9599-468c-9b5c-037b2210f8dd"
      },
      "source": [
        "#First getting each DevType into a new row.\n",
        "survey_subset.DevType.value_counts()\n",
        "dev_type = survey_subset['DevType'].str.split(';').apply(pd.Series,1).stack()\n",
        "dev_type.index = dev_type.index.droplevel(-1)\n",
        "dev_type.name = 'DevType'\n",
        "dev_drop = survey_subset.drop('DevType', axis=1)\n",
        "dev_full = dev_drop.join(dev_type)\n",
        "dev_full.head()"
      ],
      "execution_count": null,
      "outputs": [
        {
          "output_type": "execute_result",
          "data": {
            "text/html": [
              "<div>\n",
              "<style scoped>\n",
              "    .dataframe tbody tr th:only-of-type {\n",
              "        vertical-align: middle;\n",
              "    }\n",
              "\n",
              "    .dataframe tbody tr th {\n",
              "        vertical-align: top;\n",
              "    }\n",
              "\n",
              "    .dataframe thead th {\n",
              "        text-align: right;\n",
              "    }\n",
              "</style>\n",
              "<table border=\"1\" class=\"dataframe\">\n",
              "  <thead>\n",
              "    <tr style=\"text-align: right;\">\n",
              "      <th></th>\n",
              "      <th>WorkWeekHrs</th>\n",
              "      <th>YearsCode</th>\n",
              "      <th>YearsCodePro</th>\n",
              "      <th>UndergradMajor</th>\n",
              "      <th>SOVisitFreq</th>\n",
              "      <th>PlatformWorkedWith</th>\n",
              "      <th>PlatformDesireNextYear</th>\n",
              "      <th>NEWOvertime</th>\n",
              "      <th>NEWOtherComms</th>\n",
              "      <th>NEWLearn</th>\n",
              "      <th>NEWJobHuntResearch</th>\n",
              "      <th>NEWEdImpt</th>\n",
              "      <th>NEWCollabToolsDesireNextYear</th>\n",
              "      <th>MiscTechDesireNextYear</th>\n",
              "      <th>MainBranch</th>\n",
              "      <th>LanguageWorkedWith</th>\n",
              "      <th>LanguageDesireNextYear</th>\n",
              "      <th>JobSat</th>\n",
              "      <th>JobFactors</th>\n",
              "      <th>EdLevel</th>\n",
              "      <th>Employment</th>\n",
              "      <th>DatabaseWorkedWith</th>\n",
              "      <th>DatabaseDesireNextYear</th>\n",
              "      <th>ConvertedComp</th>\n",
              "      <th>Age</th>\n",
              "      <th>DevType</th>\n",
              "    </tr>\n",
              "  </thead>\n",
              "  <tbody>\n",
              "    <tr>\n",
              "      <th>0</th>\n",
              "      <td>50.0</td>\n",
              "      <td>36</td>\n",
              "      <td>27</td>\n",
              "      <td>Computer science, computer engineering, or sof...</td>\n",
              "      <td>Multiple times per day</td>\n",
              "      <td>Windows</td>\n",
              "      <td>Android;iOS;Kubernetes;Microsoft Azure;Windows</td>\n",
              "      <td>Often: 1-2 days per week or more</td>\n",
              "      <td>No</td>\n",
              "      <td>Once a year</td>\n",
              "      <td>NaN</td>\n",
              "      <td>Fairly important</td>\n",
              "      <td>Microsoft Teams;Microsoft Azure;Trello</td>\n",
              "      <td>.NET Core;Xamarin</td>\n",
              "      <td>I am a developer by profession</td>\n",
              "      <td>C#;HTML/CSS;JavaScript</td>\n",
              "      <td>C#;HTML/CSS;JavaScript</td>\n",
              "      <td>Slightly satisfied</td>\n",
              "      <td>Languages, frameworks, and other technologies ...</td>\n",
              "      <td>Master’s degree (M.A., M.S., M.Eng., MBA, etc.)</td>\n",
              "      <td>Independent contractor, freelancer, or self-em...</td>\n",
              "      <td>Elasticsearch;Microsoft SQL Server;Oracle</td>\n",
              "      <td>Microsoft SQL Server</td>\n",
              "      <td>NaN</td>\n",
              "      <td>NaN</td>\n",
              "      <td>Developer, desktop or enterprise applications</td>\n",
              "    </tr>\n",
              "    <tr>\n",
              "      <th>0</th>\n",
              "      <td>50.0</td>\n",
              "      <td>36</td>\n",
              "      <td>27</td>\n",
              "      <td>Computer science, computer engineering, or sof...</td>\n",
              "      <td>Multiple times per day</td>\n",
              "      <td>Windows</td>\n",
              "      <td>Android;iOS;Kubernetes;Microsoft Azure;Windows</td>\n",
              "      <td>Often: 1-2 days per week or more</td>\n",
              "      <td>No</td>\n",
              "      <td>Once a year</td>\n",
              "      <td>NaN</td>\n",
              "      <td>Fairly important</td>\n",
              "      <td>Microsoft Teams;Microsoft Azure;Trello</td>\n",
              "      <td>.NET Core;Xamarin</td>\n",
              "      <td>I am a developer by profession</td>\n",
              "      <td>C#;HTML/CSS;JavaScript</td>\n",
              "      <td>C#;HTML/CSS;JavaScript</td>\n",
              "      <td>Slightly satisfied</td>\n",
              "      <td>Languages, frameworks, and other technologies ...</td>\n",
              "      <td>Master’s degree (M.A., M.S., M.Eng., MBA, etc.)</td>\n",
              "      <td>Independent contractor, freelancer, or self-em...</td>\n",
              "      <td>Elasticsearch;Microsoft SQL Server;Oracle</td>\n",
              "      <td>Microsoft SQL Server</td>\n",
              "      <td>NaN</td>\n",
              "      <td>NaN</td>\n",
              "      <td>Developer, full-stack</td>\n",
              "    </tr>\n",
              "    <tr>\n",
              "      <th>1</th>\n",
              "      <td>NaN</td>\n",
              "      <td>7</td>\n",
              "      <td>4</td>\n",
              "      <td>Computer science, computer engineering, or sof...</td>\n",
              "      <td>Multiple times per day</td>\n",
              "      <td>iOS</td>\n",
              "      <td>iOS;Kubernetes;Linux;MacOS</td>\n",
              "      <td>NaN</td>\n",
              "      <td>No</td>\n",
              "      <td>Once a year</td>\n",
              "      <td>NaN</td>\n",
              "      <td>Fairly important</td>\n",
              "      <td>Github;Slack</td>\n",
              "      <td>React Native;TensorFlow;Unity 3D</td>\n",
              "      <td>I am a developer by profession</td>\n",
              "      <td>JavaScript;Swift</td>\n",
              "      <td>Python;Swift</td>\n",
              "      <td>Very dissatisfied</td>\n",
              "      <td>NaN</td>\n",
              "      <td>Bachelor’s degree (B.A., B.S., B.Eng., etc.)</td>\n",
              "      <td>Employed full-time</td>\n",
              "      <td>NaN</td>\n",
              "      <td>NaN</td>\n",
              "      <td>NaN</td>\n",
              "      <td>NaN</td>\n",
              "      <td>Developer, full-stack</td>\n",
              "    </tr>\n",
              "    <tr>\n",
              "      <th>1</th>\n",
              "      <td>NaN</td>\n",
              "      <td>7</td>\n",
              "      <td>4</td>\n",
              "      <td>Computer science, computer engineering, or sof...</td>\n",
              "      <td>Multiple times per day</td>\n",
              "      <td>iOS</td>\n",
              "      <td>iOS;Kubernetes;Linux;MacOS</td>\n",
              "      <td>NaN</td>\n",
              "      <td>No</td>\n",
              "      <td>Once a year</td>\n",
              "      <td>NaN</td>\n",
              "      <td>Fairly important</td>\n",
              "      <td>Github;Slack</td>\n",
              "      <td>React Native;TensorFlow;Unity 3D</td>\n",
              "      <td>I am a developer by profession</td>\n",
              "      <td>JavaScript;Swift</td>\n",
              "      <td>Python;Swift</td>\n",
              "      <td>Very dissatisfied</td>\n",
              "      <td>NaN</td>\n",
              "      <td>Bachelor’s degree (B.A., B.S., B.Eng., etc.)</td>\n",
              "      <td>Employed full-time</td>\n",
              "      <td>NaN</td>\n",
              "      <td>NaN</td>\n",
              "      <td>NaN</td>\n",
              "      <td>NaN</td>\n",
              "      <td>Developer, mobile</td>\n",
              "    </tr>\n",
              "    <tr>\n",
              "      <th>2</th>\n",
              "      <td>NaN</td>\n",
              "      <td>4</td>\n",
              "      <td>NaN</td>\n",
              "      <td>NaN</td>\n",
              "      <td>Daily or almost daily</td>\n",
              "      <td>NaN</td>\n",
              "      <td>NaN</td>\n",
              "      <td>NaN</td>\n",
              "      <td>No</td>\n",
              "      <td>Once a decade</td>\n",
              "      <td>NaN</td>\n",
              "      <td>NaN</td>\n",
              "      <td>NaN</td>\n",
              "      <td>NaN</td>\n",
              "      <td>I code primarily as a hobby</td>\n",
              "      <td>Objective-C;Python;Swift</td>\n",
              "      <td>Objective-C;Python;Swift</td>\n",
              "      <td>NaN</td>\n",
              "      <td>NaN</td>\n",
              "      <td>NaN</td>\n",
              "      <td>NaN</td>\n",
              "      <td>NaN</td>\n",
              "      <td>NaN</td>\n",
              "      <td>NaN</td>\n",
              "      <td>NaN</td>\n",
              "      <td>NaN</td>\n",
              "    </tr>\n",
              "  </tbody>\n",
              "</table>\n",
              "</div>"
            ],
            "text/plain": [
              "   WorkWeekHrs YearsCode  ... Age                                        DevType\n",
              "0         50.0        36  ... NaN  Developer, desktop or enterprise applications\n",
              "0         50.0        36  ... NaN                          Developer, full-stack\n",
              "1          NaN         7  ... NaN                          Developer, full-stack\n",
              "1          NaN         7  ... NaN                              Developer, mobile\n",
              "2          NaN         4  ... NaN                                            NaN\n",
              "\n",
              "[5 rows x 26 columns]"
            ]
          },
          "metadata": {
            "tags": []
          },
          "execution_count": 79
        }
      ]
    },
    {
      "cell_type": "code",
      "metadata": {
        "colab": {
          "base_uri": "https://localhost:8080/",
          "height": 516
        },
        "id": "Weced44GEf8n",
        "outputId": "ec39971b-a5ae-4100-aa87-a8b6048ca6eb"
      },
      "source": [
        "#Distribution of salaries in USD based on developer type(role)\n",
        "dev_full.groupby('DevType').ConvertedComp.mean().plot(kind = 'bar')"
      ],
      "execution_count": null,
      "outputs": [
        {
          "output_type": "execute_result",
          "data": {
            "text/plain": [
              "<matplotlib.axes._subplots.AxesSubplot at 0x7f5604f3cf10>"
            ]
          },
          "metadata": {
            "tags": []
          },
          "execution_count": 81
        },
        {
          "output_type": "display_data",
          "data": {
            "image/png": "[encoded data removed]",
            "text/plain": [
              "<Figure size 432x288 with 1 Axes>"
            ]
          },
          "metadata": {
            "tags": [],
            "needs_background": "light"
          }
        }
      ]
    },
    {
      "cell_type": "code",
      "metadata": {
        "colab": {
          "base_uri": "https://localhost:8080/"
        },
        "id": "b7sckzr5LSmV",
        "outputId": "d168faa6-0343-4e21-e801-aa10fa66b040"
      },
      "source": [
        "#Exact Numbers \n",
        "dev_full.groupby('DevType').ConvertedComp.mean()"
      ],
      "execution_count": null,
      "outputs": [
        {
          "output_type": "execute_result",
          "data": {
            "text/plain": [
              "DevType\n",
              "Academic researcher                               79984.802137\n",
              "Data or business analyst                         117228.031972\n",
              "Data scientist or machine learning specialist    123911.183276\n",
              "Database administrator                           109036.082873\n",
              "Designer                                         108321.920234\n",
              "DevOps specialist                                117256.690296\n",
              "Developer, QA or test                            102792.323741\n",
              "Developer, back-end                              102814.559794\n",
              "Developer, desktop or enterprise applications    105691.587989\n",
              "Developer, embedded applications or devices      116052.122971\n",
              "Developer, front-end                              99119.279678\n",
              "Developer, full-stack                            103901.065755\n",
              "Developer, game or graphics                      108271.385501\n",
              "Developer, mobile                                 90740.525214\n",
              "Educator                                          95941.580800\n",
              "Engineer, data                                   125454.218274\n",
              "Engineer, site reliability                       147103.356946\n",
              "Engineering manager                              152102.136316\n",
              "Marketing or sales professional                  149901.096096\n",
              "Product manager                                  120308.004896\n",
              "Scientist                                        112595.875727\n",
              "Senior executive/VP                              155010.026515\n",
              "System administrator                             107815.875626\n",
              "Name: ConvertedComp, dtype: float64"
            ]
          },
          "metadata": {
            "tags": []
          },
          "execution_count": 87
        }
      ]
    },
    {
      "cell_type": "code",
      "metadata": {
        "colab": {
          "base_uri": "https://localhost:8080/",
          "height": 384
        },
        "id": "yavg9cXqKJHf",
        "outputId": "838a4400-5d07-458f-a045-f55c62709591"
      },
      "source": [
        "#Finding the mean salaries of Data scientists based on education level to see if a certain group makes a lot more. \n",
        "dev_full.loc[dev_full['DevType']=='Data scientist or machine learning specialist'].groupby(['DevType','EdLevel']).ConvertedComp.mean().plot(kind = 'barh', figsize=(10,10))"
      ],
      "execution_count": null,
      "outputs": [
        {
          "output_type": "execute_result",
          "data": {
            "text/plain": [
              "<matplotlib.axes._subplots.AxesSubplot at 0x7f55fb95b690>"
            ]
          },
          "metadata": {
            "tags": []
          },
          "execution_count": 91
        },
        {
          "output_type": "display_data",
          "data": {
            "image/png": "[encoded data removed]",
            "text/plain": [
              "<Figure size 720x720 with 1 Axes>"
            ]
          },
          "metadata": {
            "tags": [],
            "needs_background": "light"
          }
        }
      ]
    },
    {
      "cell_type": "code",
      "metadata": {
        "colab": {
          "base_uri": "https://localhost:8080/",
          "height": 282
        },
        "id": "OC3gcmp0xRD7",
        "outputId": "b2e9ed21-8908-404e-ee76-fa9ddc6d6453"
      },
      "source": [
        "job_research = survey_subset['NEWJobHuntResearch'].str.split(';').apply(pd.Series,1).stack()\n",
        "job_research.index = job_research.index.droplevel(-1)\n",
        "job_research.name = 'NEWJobHuntResearch'\n",
        "job_research.value_counts().plot(kind = 'barh')"
      ],
      "execution_count": null,
      "outputs": [
        {
          "output_type": "execute_result",
          "data": {
            "text/plain": [
              "<matplotlib.axes._subplots.AxesSubplot at 0x7f560b724310>"
            ]
          },
          "metadata": {
            "tags": []
          },
          "execution_count": 60
        },
        {
          "output_type": "display_data",
          "data": {
            "image/png": "[encoded data removed]",
            "text/plain": [
              "<Figure size 432x288 with 1 Axes>"
            ]
          },
          "metadata": {
            "tags": [],
            "needs_background": "light"
          }
        }
      ]
    },
    {
      "cell_type": "code",
      "metadata": {
        "id": "qn19BkBn8xGF"
      },
      "source": [
        ""
      ],
      "execution_count": null,
      "outputs": []
    }
  ]
}